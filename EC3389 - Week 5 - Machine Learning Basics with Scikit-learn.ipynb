{
 "cells": [
  {
   "cell_type": "code",
   "execution_count": 1,
   "metadata": {
    "collapsed": false
   },
   "outputs": [],
   "source": [
    "import pandas as pd\n",
    "import numpy as np\n",
    "import matplotlib.pyplot as plt\n",
    "%matplotlib inline"
   ]
  },
  {
   "cell_type": "markdown",
   "metadata": {},
   "source": [
    "# <center> EC3389 - Week 5 - Machine Learning Basics with Scikit-learn </center>"
   ]
  },
  {
   "cell_type": "markdown",
   "metadata": {},
   "source": [
    "Today we will be mainly looking at *Scikit-Learn*, the most popular Python machine learning library."
   ]
  },
  {
   "cell_type": "code",
   "execution_count": 2,
   "metadata": {
    "collapsed": true
   },
   "outputs": [],
   "source": [
    "import sklearn.linear_model as skl\n",
    "import sklearn.cross_validation as skv"
   ]
  },
  {
   "cell_type": "markdown",
   "metadata": {},
   "source": [
    "We'll also use the *seaborn* library for data visualization. "
   ]
  },
  {
   "cell_type": "code",
   "execution_count": 20,
   "metadata": {
    "collapsed": false
   },
   "outputs": [],
   "source": [
    "import seaborn as sns\n",
    "sns.set_style(\"white\")"
   ]
  },
  {
   "cell_type": "markdown",
   "metadata": {},
   "source": [
    "If any of the the previous cells raised an error, uncomment and run the next two lines."
   ]
  },
  {
   "cell_type": "code",
   "execution_count": 4,
   "metadata": {
    "collapsed": false
   },
   "outputs": [],
   "source": [
    "#!pip install seaborn  \n",
    "#!pip install scikit-learn"
   ]
  },
  {
   "cell_type": "markdown",
   "metadata": {},
   "source": [
    "Don't worry about this cell, I'm just arranging some data."
   ]
  },
  {
   "cell_type": "code",
   "execution_count": 5,
   "metadata": {
    "collapsed": true
   },
   "outputs": [],
   "source": [
    "from sklearn.datasets import load_boston\n",
    "boston = load_boston()\n",
    "boston_data = pd.DataFrame(data = np.hstack([boston.target[:,np.newaxis], boston.data]), \n",
    "                    columns = [\"price\"] + list(boston[\"feature_names\"]))\n",
    "X = boston_data.ix[:, \"DIS\"].values[:,np.newaxis]\n",
    "y = boston_data.ix[:, \"NOX\"].values[:,np.newaxis]"
   ]
  },
  {
   "cell_type": "markdown",
   "metadata": {},
   "source": [
    "Note: the Boston data set makes occasional appearances in the textbook"
   ]
  },
  {
   "cell_type": "code",
   "execution_count": 6,
   "metadata": {
    "collapsed": false
   },
   "outputs": [],
   "source": [
    "# print(boston.DESCR)  # Uncomment this like for a DESCRiption of the data set"
   ]
  },
  {
   "cell_type": "markdown",
   "metadata": {},
   "source": [
    "# Machine learning in one minute"
   ]
  },
  {
   "cell_type": "markdown",
   "metadata": {},
   "source": [
    "<b>Step 1:</b> *Instantiate* an *object* of the *class* sklearn.linear_model.LinearRegression (Explanation later in the semester)"
   ]
  },
  {
   "cell_type": "code",
   "execution_count": 7,
   "metadata": {
    "collapsed": false
   },
   "outputs": [],
   "source": [
    "lr = skl.LinearRegression()"
   ]
  },
  {
   "cell_type": "markdown",
   "metadata": {},
   "source": [
    "<b>Step 2:</b> Fit the model "
   ]
  },
  {
   "cell_type": "code",
   "execution_count": 8,
   "metadata": {
    "collapsed": false
   },
   "outputs": [
    {
     "data": {
      "text/plain": [
       "LinearRegression(copy_X=True, fit_intercept=True, n_jobs=1, normalize=False)"
      ]
     },
     "execution_count": 8,
     "metadata": {},
     "output_type": "execute_result"
    }
   ],
   "source": [
    "lr.fit(X = X, y = y)"
   ]
  },
  {
   "cell_type": "markdown",
   "metadata": {},
   "source": [
    "<b>Step 3:</b> Predict"
   ]
  },
  {
   "cell_type": "code",
   "execution_count": 9,
   "metadata": {
    "collapsed": false
   },
   "outputs": [
    {
     "name": "stdout",
     "output_type": "stream",
     "text": [
      "Predicted y:  [[ 0.50368814]]\n"
     ]
    }
   ],
   "source": [
    "yhat = lr.predict(X = 5) # Predict given any point\n",
    "print(\"Predicted y: \", yhat)"
   ]
  },
  {
   "cell_type": "markdown",
   "metadata": {},
   "source": [
    "<b>Step 4</b>: Done! Go update your résumé."
   ]
  },
  {
   "cell_type": "markdown",
   "metadata": {},
   "source": [
    "To use different *supervised learning* algorithms, just change \"LinearRegression\"!"
   ]
  },
  {
   "cell_type": "markdown",
   "metadata": {},
   "source": [
    "# Evaluating a model's predictive performance"
   ]
  },
  {
   "cell_type": "markdown",
   "metadata": {},
   "source": [
    "Computing the R-squared"
   ]
  },
  {
   "cell_type": "markdown",
   "metadata": {},
   "source": [
    "Use the following definition\n",
    "\n",
    "$$R^2 = 1 - \\frac{\\text{Residual Sum of Squares}}{\\text{Total sum of squares}}  =\n",
    "1  - \\frac{\\sum_{i}(y_{i} - \\hat{y})^2}{\\sum_{i}(y_{i} - \\bar{y})^2}$$"
   ]
  },
  {
   "cell_type": "markdown",
   "metadata": {},
   "source": [
    "<b>Exercise</b>"
   ]
  },
  {
   "cell_type": "markdown",
   "metadata": {},
   "source": [
    "Write a function that computes the rquared"
   ]
  },
  {
   "cell_type": "code",
   "execution_count": 10,
   "metadata": {
    "collapsed": true
   },
   "outputs": [],
   "source": [
    "def get_rsquared(y, yhat):\n",
    "    ybar = np.mean(y)\n",
    "    rss = np.sum((y - yhat)**2)\n",
    "    tss = np.sum((y - ybar)**2)\n",
    "    return 1 - rss/tss"
   ]
  },
  {
   "cell_type": "markdown",
   "metadata": {},
   "source": [
    "Compute the $R^2$ of the function"
   ]
  },
  {
   "cell_type": "code",
   "execution_count": 11,
   "metadata": {
    "collapsed": false
   },
   "outputs": [
    {
     "name": "stdout",
     "output_type": "stream",
     "text": [
      "R^2:  0.591714967093\n"
     ]
    }
   ],
   "source": [
    "yhat = lr.predict(X)\n",
    "rsq = get_rsquared(y, yhat)\n",
    "print(\"R^2: \", rsq)"
   ]
  },
  {
   "cell_type": "markdown",
   "metadata": {},
   "source": [
    "<b>Discussion</b> Is this a \"good\" $R^2$? Are we done?"
   ]
  },
  {
   "cell_type": "markdown",
   "metadata": {},
   "source": [
    "## Splitting the data"
   ]
  },
  {
   "cell_type": "markdown",
   "metadata": {},
   "source": [
    "<b>Exercise</b>\n",
    "\n",
    "+ Split your data set by allocating:\n",
    "\n",
    "    * 70% of the DIS values to a variable named <font face=\"Courier\">X_train</font>, and their corresponding NOX values to a variable names  <font face=\"Courier\">y_train</font>\n",
    "    * The remaining 30% of the DIS values to a variable named <font face=\"Courier\">X_test</font>, and their corresponding NOX values to a variable names  <font face=\"Courier\">y_test</font>"
   ]
  },
  {
   "cell_type": "markdown",
   "metadata": {},
   "source": [
    "* <font color = \"navy\"><b>[Intermediate]</b></font> Make that a *random* 70%/30% split\n",
    "\n",
    "\n",
    "* <font color = \"navy\"><b>[Advanced]</b></font> Write a *function* that, given two arrays <font face=\"Courier\">X</font> and <font face=\"Courier\">y</font>, randomly splits them into <font face=\"Courier\">X_train</font>, <font face=\"Courier\">X_test</font>, <font face=\"Courier\">y_train</font>, <font face=\"Courier\">y_test</font>"
   ]
  },
  {
   "cell_type": "code",
   "execution_count": 12,
   "metadata": {
    "collapsed": false
   },
   "outputs": [],
   "source": [
    "# Write the code here\n",
    "X_train, X_test, y_train, y_test = skv.train_test_split(X, y)"
   ]
  },
  {
   "cell_type": "markdown",
   "metadata": {},
   "source": [
    "Once you have done that, you can test how well your model is doing:"
   ]
  },
  {
   "cell_type": "markdown",
   "metadata": {},
   "source": [
    "<b> Exercise</b> \n",
    "\n",
    "Use your <font face=\"Courier\">get_rquared</font> to compute the $R^2$ of the train and test data"
   ]
  },
  {
   "cell_type": "code",
   "execution_count": 13,
   "metadata": {
    "collapsed": false
   },
   "outputs": [
    {
     "name": "stdout",
     "output_type": "stream",
     "text": [
      "Rsq_train:  0.595684425362  Rsq_test:  0.574249786312\n"
     ]
    }
   ],
   "source": [
    "lr = skl.LinearRegression()\n",
    "lr.fit(X = X_train, y = y_train)  # Fit using *training* data here\n",
    "\n",
    "yhat_train = lr.predict(X = X_train) # Predict using *training* data \n",
    "yhat_test = lr.predict(X = X_test) # Predict using *tet* data \n",
    "\n",
    "rsq_train = get_rsquared(y = y_train, yhat = yhat_train)\n",
    "rsq_test = get_rsquared(y = y_test, yhat =  yhat_test)\n",
    "\n",
    "print(\"Rsq_train: \", rsq_train, \" Rsq_test: \", rsq_test)"
   ]
  },
  {
   "cell_type": "markdown",
   "metadata": {},
   "source": [
    "<b>Discussion</b> \n",
    "\n",
    "+ What do the relative sizes of <font face=\"Courier\">rsq_train</font> and <font face=\"Courier\">rsq_test</font> tell us about model fit?\n",
    " \n",
    "+ What would have happened had we chosen a different 70% of the data to be our test set? What does that tell you about $R^2$?"
   ]
  },
  {
   "cell_type": "code",
   "execution_count": 14,
   "metadata": {
    "collapsed": false
   },
   "outputs": [],
   "source": [
    "n_iter = 10000\n",
    "test_scores = []\n",
    "train_scores = []\n",
    "\n",
    "for i in range(n_iter):\n",
    "\n",
    "    X_train, X_test, y_train, y_test = skv.train_test_split(X, y)\n",
    "    lr = skl.LinearRegression()\n",
    "    lr.fit(X_train, y_train.flatten())\n",
    "    test_scores.append(lr.score(X_test, y_test))\n",
    "    train_scores.append(lr.score(X_train, y_train))"
   ]
  },
  {
   "cell_type": "code",
   "execution_count": 15,
   "metadata": {
    "collapsed": false
   },
   "outputs": [
    {
     "name": "stdout",
     "output_type": "stream",
     "text": [
      "Mean Test Rsq: 0.585293591857\n",
      "Mean Train Rsq: 0.591970816581\n"
     ]
    }
   ],
   "source": [
    "print(\"Mean Test Rsq:\", np.mean(test_scores))\n",
    "print(\"Mean Train Rsq:\", np.mean(train_scores))"
   ]
  },
  {
   "cell_type": "markdown",
   "metadata": {},
   "source": [
    "# Can we improve our model?"
   ]
  },
  {
   "cell_type": "markdown",
   "metadata": {
    "collapsed": true
   },
   "source": [
    "For models with few regressors, it's good practice to try plotting your *TRAINING* data."
   ]
  },
  {
   "cell_type": "code",
   "execution_count": 16,
   "metadata": {
    "collapsed": false
   },
   "outputs": [
    {
     "data": {
      "text/plain": [
       "<matplotlib.collections.PathCollection at 0x116ff8a20>"
      ]
     },
     "execution_count": 16,
     "metadata": {},
     "output_type": "execute_result"
    },
    {
     "data": {
      "image/png": "[encoded data removed]",
      "text/plain": [
       "<matplotlib.figure.Figure at 0x116ed0908>"
      ]
     },
     "metadata": {},
     "output_type": "display_data"
    }
   ],
   "source": [
    "plt.scatter(X_train, y_train)"
   ]
  },
  {
   "cell_type": "markdown",
   "metadata": {
    "collapsed": true
   },
   "source": [
    "<b>Discussion</b> What are some issues with our specification? (Extra: are Gauss-Markov assumptions satisfied?)"
   ]
  },
  {
   "cell_type": "markdown",
   "metadata": {},
   "source": [
    "## 1) Looking for variable transformations"
   ]
  },
  {
   "cell_type": "markdown",
   "metadata": {},
   "source": [
    "If we can make our data linear (or, in general, more compliant to the assumptions of our model), the fit may improve."
   ]
  },
  {
   "cell_type": "code",
   "execution_count": 17,
   "metadata": {
    "collapsed": false
   },
   "outputs": [
    {
     "data": {
      "text/plain": [
       "<matplotlib.text.Text at 0x11a2dcd30>"
      ]
     },
     "execution_count": 17,
     "metadata": {},
     "output_type": "execute_result"
    },
    {
     "data": {
      "image/png": "[encoded data removed]",
      "text/plain": [
       "<matplotlib.figure.Figure at 0x11a102e80>"
      ]
     },
     "metadata": {},
     "output_type": "display_data"
    }
   ],
   "source": [
    "fig, ax = plt.subplots(2, 2, figsize = (10,10),  sharey = True)\n",
    "\n",
    "ax[0,0].scatter(x = X_train, y = y_train)\n",
    "ax[0,0].set_title(\"$X$\", fontsize = 20)\n",
    "\n",
    "ax[0,1].scatter(x = X_train**2, y = y_train)\n",
    "ax[0,1].set_title(\"$X^2$\", fontsize = 20)\n",
    "\n",
    "ax[1,0].scatter(x = 1/X_train, y = y_train)\n",
    "ax[1,0].set_title(\"$1/X$\", fontsize = 20)\n",
    "\n",
    "ax[1,1].scatter(x = np.log(X_train), y = y_train)\n",
    "ax[1,1].set_title(\"$\\log{X}$\", fontsize = 20)"
   ]
  },
  {
   "cell_type": "markdown",
   "metadata": {},
   "source": [
    "<b>Exercise</b>\n",
    "\n",
    "+ Create a new variable <font face=\"Courier\">X_new = g(X)</font>, where <font face=\"Courier\">g</font> is any function of your choice.\n",
    "\n",
    "+ Use the <font face=\"Courier\">sklearn.cross_validation.train_test_split</font> to make a 70/30 split using the new X and y\n",
    "\n",
    "+ Find the training and test R-squared for this new specification"
   ]
  },
  {
   "cell_type": "code",
   "execution_count": 18,
   "metadata": {
    "collapsed": false
   },
   "outputs": [
    {
     "name": "stdout",
     "output_type": "stream",
     "text": [
      "Train Rsq: 0.684947416489\n",
      "Test Rsq: 0.706767759324\n"
     ]
    }
   ],
   "source": [
    "X_new = np.log(X)\n",
    "X_train, X_test, y_train, y_test = skv.train_test_split(X_new, y)\n",
    "\n",
    "lr = skl.LinearRegression()\n",
    "lr.fit(X_train, y_train)\n",
    "\n",
    "print(\"Train Rsq:\", lr.score(X_train,y_train)), \n",
    "print(\"Test Rsq:\", lr.score(X_test, y_test))"
   ]
  },
  {
   "cell_type": "markdown",
   "metadata": {},
   "source": [
    "## 2) Use a more flexible model"
   ]
  },
  {
   "cell_type": "markdown",
   "metadata": {},
   "source": [
    "Using <font face=\"Courier\">K-Nearest Neighbors</font>, we get $R^2\\approx 0.74$ on the *test* set! "
   ]
  },
  {
   "cell_type": "code",
   "execution_count": 19,
   "metadata": {
    "collapsed": false
   },
   "outputs": [
    {
     "data": {
      "text/plain": [
       "<matplotlib.text.Text at 0x11a915630>"
      ]
     },
     "execution_count": 19,
     "metadata": {},
     "output_type": "execute_result"
    },
    {
     "data": {
      "image/png": "[encoded data removed]",
      "text/plain": [
       "<matplotlib.figure.Figure at 0x11a96ce80>"
      ]
     },
     "metadata": {},
     "output_type": "display_data"
    }
   ],
   "source": [
    "import sklearn.neighbors as skn\n",
    "\n",
    "knn = skn.KNeighborsRegressor(n_neighbors= 50)\n",
    "knn.fit(X_train, y_train)\n",
    "rsq = knn.score(X_test, y_test)\n",
    "\n",
    "X_grid = np.linspace(.1, 2.5, 1000).reshape(-1,1)\n",
    "y_grid = knn.predict(X_grid)\n",
    "\n",
    "fig, ax = plt.subplots(1, figsize = (10,8))\n",
    "ax.plot(X_grid, y_grid)\n",
    "ax.scatter(X_test, y_test)\n",
    "ax.text(1.8, .8, \"Test $R^2:$\" + str(np.round(rsq, 3)), fontsize = 20)\n",
    "ax.set_title(\"Test set vs. Fitted Model\", fontsize = 20)"
   ]
  },
  {
   "cell_type": "markdown",
   "metadata": {},
   "source": [
    "<font size=3><b>To Think</b> \n",
    "\n",
    "+ Theoretically, can we keep improving forever, as we come up with better algorithms? \n",
    "\n",
    "+ Could there be an algorithm that is beats all others, regardless of the distribution of the data?"
   ]
  }
 ],
 "metadata": {
  "kernelspec": {
   "display_name": "Python 3",
   "language": "python",
   "name": "python3"
  },
  "language_info": {
   "codemirror_mode": {
    "name": "ipython",
    "version": 3
   },
   "file_extension": ".py",
   "mimetype": "text/x-python",
   "name": "python",
   "nbconvert_exporter": "python",
   "pygments_lexer": "ipython3",
   "version": "3.5.1"
  }
 },
 "nbformat": 4,
 "nbformat_minor": 0
}
