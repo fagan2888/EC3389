{
 "cells": [
  {
   "cell_type": "code",
   "execution_count": 174,
   "metadata": {
    "collapsed": true
   },
   "outputs": [],
   "source": [
    "import numpy as np\n",
    "import matplotlib.pyplot as plt\n",
    "%matplotlib inline"
   ]
  },
  {
   "cell_type": "markdown",
   "metadata": {},
   "source": [
    "# <center> EC3389 - Week 4 - Optimization / SciPy</center>"
   ]
  },
  {
   "cell_type": "markdown",
   "metadata": {},
   "source": [
    "<b>General Comments</b>\n",
    "\n",
    "+ What is optimization? \n",
    "\n",
    "+ Why do we need it in this course?"
   ]
  },
  {
   "cell_type": "markdown",
   "metadata": {},
   "source": [
    "<b>Background</b>\n",
    "\n",
    "+ Objective function\n",
    "\n",
    "+ Constraints\n",
    "\n",
    "+ Linear functions\n",
    "\n",
    "+ Convex functions\n",
    "\n",
    "+ Gradient\n",
    "\n",
    "+ Notation: min, max, argmin, argmax"
   ]
  },
  {
   "cell_type": "markdown",
   "metadata": {},
   "source": [
    "<hr>"
   ]
  },
  {
   "cell_type": "markdown",
   "metadata": {},
   "source": [
    "# Unconstrained Optimization"
   ]
  },
  {
   "cell_type": "markdown",
   "metadata": {},
   "source": [
    "## By calculus"
   ]
  },
  {
   "cell_type": "markdown",
   "metadata": {},
   "source": [
    "How would you solve this problem:\n",
    "\n",
    "\\begin{align*}\n",
    "\\min_{x} x(x - 3)\n",
    "\\end{align*}"
   ]
  },
  {
   "cell_type": "markdown",
   "metadata": {},
   "source": [
    "<hr>"
   ]
  },
  {
   "cell_type": "markdown",
   "metadata": {
    "collapsed": true
   },
   "source": [
    "## The simplest algorithm"
   ]
  },
  {
   "cell_type": "markdown",
   "metadata": {},
   "source": [
    "Let's look at the graph of the function $y = x(x - 3)$. What kind of function is this?  What is its $\\arg\\min$? What is its $min$? "
   ]
  },
  {
   "cell_type": "code",
   "execution_count": 189,
   "metadata": {
    "collapsed": false
   },
   "outputs": [
    {
     "data": {
      "text/plain": [
       "[<matplotlib.lines.Line2D at 0x10a11e358>]"
      ]
     },
     "execution_count": 189,
     "metadata": {},
     "output_type": "execute_result"
    },
    {
     "data": {
      "image/png": "[encoded data removed]",
      "text/plain": [
       "<matplotlib.figure.Figure at 0x10a0bcb00>"
      ]
     },
     "metadata": {},
     "output_type": "display_data"
    }
   ],
   "source": [
    "x = np.linspace(start = -3, stop = 6, num  = 100)\n",
    "y = x*(x - 3)  \n",
    "plt.plot(x,y)"
   ]
  },
  {
   "cell_type": "markdown",
   "metadata": {},
   "source": [
    "What does the derivative of this function look like? "
   ]
  },
  {
   "cell_type": "code",
   "execution_count": 190,
   "metadata": {
    "collapsed": false
   },
   "outputs": [
    {
     "data": {
      "text/plain": [
       "[<matplotlib.lines.Line2D at 0x10a285b00>]"
      ]
     },
     "execution_count": 190,
     "metadata": {},
     "output_type": "execute_result"
    },
    {
     "data": {
      "image/png": "[encoded data removed]",
      "text/plain": [
       "<matplotlib.figure.Figure at 0x10a327e10>"
      ]
     },
     "metadata": {},
     "output_type": "display_data"
    }
   ],
   "source": [
    "x = np.linspace(start = -3, stop = 6, num  = 100)\n",
    "y = 2*x - 3 \n",
    "plt.plot(x,y)"
   ]
  },
  {
   "cell_type": "markdown",
   "metadata": {},
   "source": [
    "Suppose we want to minimize $f$, and we start with some guess $x_{0}$. \n",
    "\n",
    "<b> Question:</b> If we know $f'(x_{0})$, what can we say about the position of the minimum?"
   ]
  },
  {
   "cell_type": "markdown",
   "metadata": {},
   "source": [
    "## Implementation"
   ]
  },
  {
   "cell_type": "markdown",
   "metadata": {},
   "source": [
    "<b>Simplest algorithm</b>\n",
    "<font face = \"Courier\">\n",
    "<ul>\n",
    "<li>Initialize $x = x_0$\n",
    "\n",
    "<li>Iterate while $|f'(x)|$ is large:\n",
    "\n",
    "<ul> \n",
    "<li>$x = x - step*sign(f'(x))$\n",
    "</ul>\n",
    "<li> Return $x$\n",
    "</ul>\n",
    "</font>\n",
    "        "
   ]
  },
  {
   "cell_type": "markdown",
   "metadata": {},
   "source": [
    "<b>Code</b>"
   ]
  },
  {
   "cell_type": "markdown",
   "metadata": {},
   "source": [
    "Write the function that returns the gradient of $f = x(x - 3)$."
   ]
  },
  {
   "cell_type": "code",
   "execution_count": 191,
   "metadata": {
    "collapsed": true
   },
   "outputs": [],
   "source": [
    "def fprime(x):\n",
    "    return 2*x - 3"
   ]
  },
  {
   "cell_type": "markdown",
   "metadata": {},
   "source": [
    "Write a function that, given $f'$ and a initial value, returns $\\arg\\min f$ (i.e., the minimizer of $f$)."
   ]
  },
  {
   "cell_type": "code",
   "execution_count": 197,
   "metadata": {
    "collapsed": false
   },
   "outputs": [],
   "source": [
    "def simple_minimization(fprime, x_init, tol = 0.0001, step = 0.001):\n",
    "    # Initialize x\n",
    "    x = x_init\n",
    "    \n",
    "    # Iterate\n",
    "    while np.abs(fprime(x)) > tol:  # Erase the word False and substitute it by the appropriate expression\n",
    "        # Step into minimizing direction\n",
    "        x = x - step*np.sign(fprime(x))\n",
    "    \n",
    "    # Return x after all iterations \n",
    "    return x"
   ]
  },
  {
   "cell_type": "markdown",
   "metadata": {},
   "source": [
    "Test your code with the <font face = \"Courier\">fprime</font> function."
   ]
  },
  {
   "cell_type": "code",
   "execution_count": 198,
   "metadata": {
    "collapsed": false
   },
   "outputs": [
    {
     "data": {
      "text/plain": [
       "1.4509999999997318"
      ]
     },
     "execution_count": 198,
     "metadata": {},
     "output_type": "execute_result"
    }
   ],
   "source": [
    "simple_minimization(fprime = fprime, x_init = -3, tol = 0.1) "
   ]
  },
  {
   "cell_type": "markdown",
   "metadata": {},
   "source": [
    "<b>Question</b> Can you name some problems with this algorithm?"
   ]
  },
  {
   "cell_type": "markdown",
   "metadata": {},
   "source": [
    "<hr>"
   ]
  },
  {
   "cell_type": "markdown",
   "metadata": {},
   "source": [
    "## Numerical derivatives"
   ]
  },
  {
   "cell_type": "markdown",
   "metadata": {},
   "source": [
    "Recall the definition of derivative you learned in Calc 1:\n",
    "\n",
    "\n",
    "$$f'(x) = \\lim_{h \\rightarrow 0}\\frac{f(x + h) - f(x)}{h}$$"
   ]
  },
  {
   "cell_type": "markdown",
   "metadata": {},
   "source": [
    "How could you construct an approximate derivative from this?"
   ]
  },
  {
   "cell_type": "markdown",
   "metadata": {},
   "source": [
    "<b>(Easy)</b> Write a function that takes a univariate function $f$ and a value $x$ as input, and returns the *value* of f'(x) computed numerically"
   ]
  },
  {
   "cell_type": "code",
   "execution_count": 212,
   "metadata": {
    "collapsed": false
   },
   "outputs": [],
   "source": [
    "def fprime_numerical(f, x):\n",
    "    h = 0.001\n",
    "    return (f(x + h) - f(x))/h"
   ]
  },
  {
   "cell_type": "markdown",
   "metadata": {},
   "source": [
    "<b>(Hard)</b> Write a function that takes a univariate function $f$ as input, and returns a *function* $f'$."
   ]
  },
  {
   "cell_type": "code",
   "execution_count": 186,
   "metadata": {
    "collapsed": true
   },
   "outputs": [],
   "source": [
    "def take_derivative(f):\n",
    "    return"
   ]
  },
  {
   "cell_type": "code",
   "execution_count": 203,
   "metadata": {
    "collapsed": false
   },
   "outputs": [],
   "source": [
    "def f_test(x):\n",
    "    return x*(x - 3)"
   ]
  },
  {
   "cell_type": "code",
   "execution_count": 204,
   "metadata": {
    "collapsed": false
   },
   "outputs": [
    {
     "data": {
      "text/plain": [
       "-6.998999999998645"
      ]
     },
     "execution_count": 204,
     "metadata": {},
     "output_type": "execute_result"
    }
   ],
   "source": [
    "fprime_numerical(f_test, -2)"
   ]
  },
  {
   "cell_type": "markdown",
   "metadata": {},
   "source": [
    "<hr>"
   ]
  },
  {
   "cell_type": "markdown",
   "metadata": {},
   "source": [
    "## Gradient Descent"
   ]
  },
  {
   "cell_type": "markdown",
   "metadata": {},
   "source": [
    "We would like to make the step *proportional* to the gradient."
   ]
  },
  {
   "cell_type": "markdown",
   "metadata": {},
   "source": [
    "Write a function that updates $x$ by taking steps proportional to <font face = \"Courier\">fprime</font>."
   ]
  },
  {
   "cell_type": "code",
   "execution_count": 172,
   "metadata": {
    "collapsed": true
   },
   "outputs": [],
   "source": [
    "def take_step(x, fprime):\n",
    "    return "
   ]
  },
  {
   "cell_type": "markdown",
   "metadata": {},
   "source": [
    "<b>Gradient descent algorithm</b>\n",
    "<font face = \"Courier\">\n",
    "<ul>\n",
    "<li>Initialize $x = x_0$\n",
    "<li>Compute $f'$ and evaluated it at $x$.\n",
    "\n",
    "<li>Iterate while $|f'(x)|$ is large:\n",
    "\n",
    "<ul> \n",
    "<li>$x = x - \\alpha f'(x)$\n",
    "</ul>\n",
    "<li> Return $x$\n",
    "</ul>\n",
    "</font>\n",
    "        "
   ]
  },
  {
   "cell_type": "code",
   "execution_count": 220,
   "metadata": {
    "collapsed": true
   },
   "outputs": [],
   "source": [
    "def gradient_descent(f, x_init, tol = 0.0001, alpha = 0.001):\n",
    "    # Initialize x\n",
    "    x = x_init\n",
    "    fprime_at_x = fprime_numerical(f, x)\n",
    "    \n",
    "    # Iterate\n",
    "    while np.abs(fprime_at_x) > tol:  # Erase the word False and substitute it by the appropriate expression\n",
    "        # Step into minimizing direction\n",
    "        x = x - alpha*fprime_at_x\n",
    "        fprime_at_x = fprime_numerical(f, x)\n",
    "        \n",
    "    \n",
    "    # Return x after all iterations \n",
    "    return x"
   ]
  },
  {
   "cell_type": "code",
   "execution_count": 221,
   "metadata": {
    "collapsed": false
   },
   "outputs": [
    {
     "data": {
      "text/plain": [
       "1.499450052633775"
      ]
     },
     "execution_count": 221,
     "metadata": {},
     "output_type": "execute_result"
    }
   ],
   "source": [
    "gradient_descent(f_test, -2)"
   ]
  },
  {
   "cell_type": "markdown",
   "metadata": {},
   "source": [
    "That's it! Add to that about 80 years of bells and whistles."
   ]
  },
  {
   "cell_type": "markdown",
   "metadata": {},
   "source": [
    "<hr>"
   ]
  },
  {
   "cell_type": "markdown",
   "metadata": {},
   "source": [
    "## Using Python's SciPy"
   ]
  },
  {
   "cell_type": "code",
   "execution_count": 222,
   "metadata": {
    "collapsed": true
   },
   "outputs": [],
   "source": [
    "import scipy.optimize as opt"
   ]
  },
  {
   "cell_type": "code",
   "execution_count": 223,
   "metadata": {
    "collapsed": true
   },
   "outputs": [],
   "source": [
    "def test_function(x):\n",
    "    return x*(x - 3)"
   ]
  },
  {
   "cell_type": "code",
   "execution_count": 224,
   "metadata": {
    "collapsed": false
   },
   "outputs": [
    {
     "name": "stdout",
     "output_type": "stream",
     "text": [
      "      fun: -2.25\n",
      " hess_inv: array([[ 0.49999999]])\n",
      "      jac: array([ 0.])\n",
      "  message: 'Optimization terminated successfully.'\n",
      "     nfev: 12\n",
      "      nit: 2\n",
      "     njev: 4\n",
      "   status: 0\n",
      "  success: True\n",
      "        x: array([ 1.49999999])\n"
     ]
    }
   ],
   "source": [
    "result = opt.minimize(fun = test_function, x0 = 1, tol = 1e-10)\n",
    "print(result)"
   ]
  },
  {
   "cell_type": "markdown",
   "metadata": {},
   "source": [
    "## How is this relevant for EC3389?"
   ]
  },
  {
   "cell_type": "markdown",
   "metadata": {},
   "source": [
    "The expression *least squares* should ring some bells."
   ]
  },
  {
   "cell_type": "markdown",
   "metadata": {},
   "source": [
    "\\begin{align*}\n",
    "&\\min \\ \\sum_{i}^{n} (y_{i} - a - b_{1}x_{1i} - b_{2}x_{2i})^2 \\\\\n",
    "\\end{align*}"
   ]
  },
  {
   "cell_type": "markdown",
   "metadata": {},
   "source": [
    "The least squares problem can be understood as a minimization problem with a squared loss function.\n",
    "\n",
    "Two weeks from now (and maybe before that, in the homework) we will get to know different loss functions. "
   ]
  },
  {
   "cell_type": "markdown",
   "metadata": {},
   "source": [
    "In fact, it very soon we will we will start thinking about the prediction problem in a much more general way:"
   ]
  },
  {
   "cell_type": "markdown",
   "metadata": {},
   "source": [
    "\\begin{align*}\n",
    "&\\min_{\\theta} \\ \\sum_{i}^{n} L(y_{i}, g(x_{i}, \\theta)) \\\\\n",
    "\\end{align*}"
   ]
  },
  {
   "cell_type": "markdown",
   "metadata": {},
   "source": [
    "<hr>"
   ]
  },
  {
   "cell_type": "markdown",
   "metadata": {},
   "source": [
    "# Constrained Optimization"
   ]
  },
  {
   "cell_type": "markdown",
   "metadata": {},
   "source": [
    "We won't go into details, but the theory is rich and the applications abound. Let's use it in SciPy."
   ]
  },
  {
   "cell_type": "markdown",
   "metadata": {},
   "source": [
    "\\begin{align*}\n",
    "&\\min \\qquad &(x_{0} - 1)^2 + (x_{1} - 1)^2 \\\\\n",
    "&\\text{ subject to} & x_{0} \\geq 2 \\\\\n",
    "&& x_{1} \\geq 2\n",
    "\\end{align*}"
   ]
  },
  {
   "cell_type": "markdown",
   "metadata": {},
   "source": [
    "What does this function look like? What is points satisfy the constraints? "
   ]
  },
  {
   "cell_type": "code",
   "execution_count": 225,
   "metadata": {
    "collapsed": false
   },
   "outputs": [],
   "source": [
    "test_function = lambda x: (x[0] - 1)**2 + (x[1] - 1)**2\n",
    "\n",
    "cons = ({\"type\":\"ineq\", \"fun\": lambda x: x[0] - 2},\n",
    "        {\"type\":\"ineq\", \"fun\": lambda x: x[1] - 2})"
   ]
  },
  {
   "cell_type": "code",
   "execution_count": 226,
   "metadata": {
    "collapsed": false
   },
   "outputs": [
    {
     "name": "stdout",
     "output_type": "stream",
     "text": [
      "     fun: 2.0000000000000009\n",
      "     jac: array([ 2.,  2.,  0.])\n",
      " message: 'Optimization terminated successfully.'\n",
      "    nfev: 13\n",
      "     nit: 3\n",
      "    njev: 3\n",
      "  status: 0\n",
      " success: True\n",
      "       x: array([ 2.,  2.])\n"
     ]
    }
   ],
   "source": [
    "result = opt.minimize(fun = test_function,\n",
    "                      x0 = (1,1),\n",
    "                      constraints=cons)\n",
    "\n",
    "print(result)"
   ]
  },
  {
   "cell_type": "markdown",
   "metadata": {},
   "source": [
    "## Ok, but how is <i>that</i> relevant for EC3389?"
   ]
  },
  {
   "cell_type": "markdown",
   "metadata": {},
   "source": [
    "As we will see soon, it is often the case that constraining your coefficients $b$ can lead to improvements in predictive power! "
   ]
  },
  {
   "cell_type": "markdown",
   "metadata": {},
   "source": [
    "\\begin{align*}\n",
    "&\\min \\qquad &\\ f(a,b) = \\sum_{i}^{n} (y_{i} - a - b_{1}x_{1i} - b_{2}x_{2i})^2 \\\\\n",
    "&\\text{ subject to} & b_{1}^{2} + b_{2}^2 \\leq C \\\\\n",
    "\\end{align*}"
   ]
  },
  {
   "cell_type": "markdown",
   "metadata": {},
   "source": [
    "Restricting the slopes as above leads to a method called *Ridge Regression*."
   ]
  }
 ],
 "metadata": {
  "kernelspec": {
   "display_name": "Python 3",
   "language": "python",
   "name": "python3"
  },
  "language_info": {
   "codemirror_mode": {
    "name": "ipython",
    "version": 3
   },
   "file_extension": ".py",
   "mimetype": "text/x-python",
   "name": "python",
   "nbconvert_exporter": "python",
   "pygments_lexer": "ipython3",
   "version": "3.5.1"
  }
 },
 "nbformat": 4,
 "nbformat_minor": 0
}
