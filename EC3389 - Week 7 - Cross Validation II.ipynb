{
 "cells": [
  {
   "cell_type": "code",
   "execution_count": 1,
   "metadata": {
    "collapsed": true
   },
   "outputs": [],
   "source": [
    "import numpy as np\n",
    "import matplotlib.pyplot as plt\n",
    "import pandas as pd\n",
    "import sklearn.datasets as skd\n",
    "import sklearn.cross_validation as skv\n",
    "%matplotlib inline"
   ]
  },
  {
   "cell_type": "markdown",
   "metadata": {},
   "source": [
    "# <center> EC3389 - Cross Validation 2</center>"
   ]
  },
  {
   "cell_type": "markdown",
   "metadata": {},
   "source": [
    "<b>Generate data</b> What is the data generating process associated with the following code?"
   ]
  },
  {
   "cell_type": "code",
   "execution_count": 21,
   "metadata": {
    "collapsed": false
   },
   "outputs": [],
   "source": [
    "n_obs = 20\n",
    "\n",
    "beta = np.array([[5],[0],[2],[1]])\n",
    "\n",
    "X = np.random.uniform(low = -5, high = 5, size = (n_obs, 1))\n",
    "XX = np.hstack([X**0, X**1, X**2, X**3])\n",
    "\n",
    "e = np.random.normal(loc = 0, scale = 15, size = (n_obs,1))\n",
    "\n",
    "Y = XX.dot(beta) + e"
   ]
  },
  {
   "cell_type": "code",
   "execution_count": 22,
   "metadata": {
    "collapsed": false
   },
   "outputs": [
    {
     "data": {
      "text/plain": [
       "<matplotlib.collections.PathCollection at 0x119eb1a20>"
      ]
     },
     "execution_count": 22,
     "metadata": {},
     "output_type": "execute_result"
    },
    {
     "data": {
      "image/png": "[encoded data removed]",
      "text/plain": [
       "<matplotlib.figure.Figure at 0x119aa3780>"
      ]
     },
     "metadata": {},
     "output_type": "display_data"
    }
   ],
   "source": [
    "plt.scatter(X, Y)"
   ]
  },
  {
   "cell_type": "markdown",
   "metadata": {},
   "source": [
    "<b>Review</b> Let's begin by rewriting the functions in our HW3."
   ]
  },
  {
   "cell_type": "code",
   "execution_count": 23,
   "metadata": {
    "collapsed": true
   },
   "outputs": [],
   "source": [
    "def create_polynomial_matrix(X, d):\n",
    "    v = np.array(range(d + 1))\n",
    "    return X**v"
   ]
  },
  {
   "cell_type": "code",
   "execution_count": 24,
   "metadata": {
    "collapsed": true
   },
   "outputs": [],
   "source": [
    "def ols_coefficients(X, y):\n",
    "    return np.linalg.pinv(X).dot(y)"
   ]
  },
  {
   "cell_type": "code",
   "execution_count": 25,
   "metadata": {
    "collapsed": true
   },
   "outputs": [],
   "source": [
    "def ols_predict(X, betahat):\n",
    "    return X.dot(betahat)"
   ]
  },
  {
   "cell_type": "code",
   "execution_count": 26,
   "metadata": {
    "collapsed": true
   },
   "outputs": [],
   "source": [
    "def ols_mse(y, yhat):\n",
    "    return np.mean((y - yhat)**2)"
   ]
  },
  {
   "cell_type": "markdown",
   "metadata": {},
   "source": [
    "<b>K-Fold Cross-Validation</b> In the homeworks, you split the sample and evaluated the model by computing the mse on each set. This time, we will use k-fold cross-validation to do the same. Let's use the scikit-learn.cross_validation function KFold to write a function that does it."
   ]
  },
  {
   "cell_type": "code",
   "execution_count": 27,
   "metadata": {
    "collapsed": false
   },
   "outputs": [],
   "source": [
    "def kfold_mse(XX, Y, n_folds):\n",
    "    \n",
    "    test_mse = np.zeros((n_folds, ))\n",
    "    train_mse = np.zeros((n_folds, ))\n",
    "\n",
    "    indices = skv.KFold(n_obs, n_folds  = n_folds)\n",
    "\n",
    "    # \"enumerate\" is very useful!\n",
    "    for k, (train_idx, test_idx) in enumerate(indices):\n",
    "    \n",
    "        XX_train = XX[train_idx,:]\n",
    "        Y_train = Y[train_idx,:]\n",
    "        XX_test = XX[test_idx,:]\n",
    "        Y_test = Y[test_idx]\n",
    "\n",
    "        # Fit, predict and score using the mse \n",
    "        betahat = ols_coefficients(XX_train, Y_train)\n",
    "        \n",
    "        Yhat_train = ols_predict(XX_train, betahat)\n",
    "        train_mse[k] = ols_mse(Yhat_train, Y_train)\n",
    "        \n",
    "        Yhat_test = ols_predict(XX_test, betahat)\n",
    "        test_mse[k] = ols_mse(Yhat_test, Y_test)\n",
    "        \n",
    "    return train_mse, test_mse"
   ]
  },
  {
   "cell_type": "markdown",
   "metadata": {},
   "source": [
    "## Validation function"
   ]
  },
  {
   "cell_type": "markdown",
   "metadata": {},
   "source": [
    "Now, for <font face=\"Courier\">degree</font> in <font face=\"Courier\">[0,1,...,max_degree]</font>, do the following:\n",
    "\n",
    "+ Use <font face =\"Courier\">create_polynomial_matrix</font> to create a polynomial matrix of different degrees \n",
    "\n",
    "+ Use <font face =\"Courier\">kfold_mse</font> to evaluate the model\n",
    "\n",
    "+ Store the <i>average</i> MSEs in vectors <font face=\"Courier\">test_avg_mse</font>, <font face=\"Courier\">train_avg_mse</font>. Each of these vectors has length <font face=\"Courier\">max_degree + 1</font>."
   ]
  },
  {
   "cell_type": "code",
   "execution_count": 28,
   "metadata": {
    "collapsed": false
   },
   "outputs": [],
   "source": [
    "max_degree = 8\n",
    "train_avg_mse = np.zeros((max_degree + 1,))\n",
    "test_avg_mse = np.zeros((max_degree + 1,))\n",
    "\n",
    "for r in range(max_degree + 1):\n",
    "    \n",
    "    XX = create_polynomial_matrix(X, r)\n",
    "    train_mse, test_mse = kfold_mse(XX, Y, n_folds = 5)\n",
    "    train_avg_mse[r] = np.mean(train_mse)\n",
    "    test_avg_mse[r] = np.mean(test_mse)"
   ]
  },
  {
   "cell_type": "markdown",
   "metadata": {},
   "source": [
    "Plot all test and train MSEs"
   ]
  },
  {
   "cell_type": "code",
   "execution_count": 29,
   "metadata": {
    "collapsed": false
   },
   "outputs": [
    {
     "data": {
      "text/plain": [
       "[<matplotlib.lines.Line2D at 0x119eeacc0>]"
      ]
     },
     "execution_count": 29,
     "metadata": {},
     "output_type": "execute_result"
    },
    {
     "data": {
      "image/png": "[encoded data removed]",
      "text/plain": [
       "<matplotlib.figure.Figure at 0x119ebea90>"
      ]
     },
     "metadata": {},
     "output_type": "display_data"
    }
   ],
   "source": [
    "fig, ax = plt.subplots(1, 2, figsize = (10,5), sharey = True)\n",
    "\n",
    "ax[0].plot(range(max_degree + 1), train_avg_mse)\n",
    "ax[1].plot(range(max_degree + 1), test_avg_mse)"
   ]
  },
  {
   "cell_type": "markdown",
   "metadata": {},
   "source": [
    "Plot their difference"
   ]
  },
  {
   "cell_type": "code",
   "execution_count": 30,
   "metadata": {
    "collapsed": false
   },
   "outputs": [
    {
     "data": {
      "text/plain": [
       "[<matplotlib.lines.Line2D at 0x11a2516d8>]"
      ]
     },
     "execution_count": 30,
     "metadata": {},
     "output_type": "execute_result"
    },
    {
     "data": {
      "image/png": "[encoded data removed]",
      "text/plain": [
       "<matplotlib.figure.Figure at 0x119e5dc50>"
      ]
     },
     "metadata": {},
     "output_type": "display_data"
    }
   ],
   "source": [
    "plt.plot(range(max_degree + 1), train_avg_mse - test_avg_mse)"
   ]
  },
  {
   "cell_type": "markdown",
   "metadata": {},
   "source": [
    "+ What happens when you increase or decrease n_obs? What happens if you increase the variance of $e$? \n",
    "\n",
    "+ <b>Think</b> Any ideas to better estimate the \"true\" expected MSE on training and test sets?"
   ]
  },
  {
   "cell_type": "markdown",
   "metadata": {},
   "source": [
    "<b>Extra</b> (This will be the next homework) What happens if we use <font face=\"Courier\">ridge_coefficients</font> instead? "
   ]
  }
 ],
 "metadata": {
  "kernelspec": {
   "display_name": "Python 3",
   "language": "python",
   "name": "python3"
  },
  "language_info": {
   "codemirror_mode": {
    "name": "ipython",
    "version": 3
   },
   "file_extension": ".py",
   "mimetype": "text/x-python",
   "name": "python",
   "nbconvert_exporter": "python",
   "pygments_lexer": "ipython3",
   "version": "3.5.1"
  }
 },
 "nbformat": 4,
 "nbformat_minor": 0
}
